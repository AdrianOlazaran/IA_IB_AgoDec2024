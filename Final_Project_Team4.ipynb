{
  "nbformat": 4,
  "nbformat_minor": 0,
  "metadata": {
    "colab": {
      "provenance": [],
      "include_colab_link": true
    },
    "kernelspec": {
      "name": "python3",
      "display_name": "Python 3"
    },
    "language_info": {
      "name": "python"
    }
  },
  "cells": [
    {
      "cell_type": "markdown",
      "metadata": {
        "id": "view-in-github",
        "colab_type": "text"
      },
      "source": [
        "<a href=\"https://colab.research.google.com/github/AdrianOlazaran/IA_IB_AgoDec2024/blob/main/Final_Project_Team4.ipynb\" target=\"_parent\"><img src=\"https://colab.research.google.com/assets/colab-badge.svg\" alt=\"Open In Colab\"/></a>"
      ]
    },
    {
      "cell_type": "markdown",
      "source": [
        "# Team details"
      ],
      "metadata": {
        "id": "kWxfDx5i4-pv"
      }
    },
    {
      "cell_type": "markdown",
      "source": [
        "* Diego Alberto Quiroz Rodríguez 2021240\n",
        "* Adrián Emiliano Olazarán Guzmán 1901957\n",
        "* André Nolasco Vincent 2013387\n",
        "* Alejandro de Jesús Guerrero Maynes 2109308"
      ],
      "metadata": {
        "id": "-g_CCyfk53e7"
      }
    },
    {
      "cell_type": "markdown",
      "source": [
        "Team 4"
      ],
      "metadata": {
        "id": "7Plm0Z9m5Ug7"
      }
    },
    {
      "cell_type": "markdown",
      "source": [
        "## Artificial Intelligence final project"
      ],
      "metadata": {
        "id": "YCnpH00h5Yh0"
      }
    },
    {
      "cell_type": "markdown",
      "source": [
        "## Introduction to the project"
      ],
      "metadata": {
        "id": "n-6OQnYC5noc"
      }
    },
    {
      "cell_type": "markdown",
      "source": [
        "Nowadays, Convolutional Neural Networks (CNNs) have revolutionized image analysis, especially in critical areas such as medicine. These architectures allow for processing large volumes of images and extracting relevant patterns for classification and diagnosis tasks. The goal of this activity is to train a CNN model using a medical image dataset from Kaggle. This final project will help develop skills in data handling, image preprocessing, and the implementation of deep learning models focused on the medical field.\n",
        "\n",
        "Three datasets are suggested: MRI images related to Alzheimer’s, brain tumor detection, and chest CT scans. Based on one of these datasets, a comprehensive analysis will be conducted, covering preprocessing, dataset splitting into training and test sets, CNN model training, and performance evaluation."
      ],
      "metadata": {
        "id": "e4H-H1Ds5vkE"
      }
    },
    {
      "cell_type": "markdown",
      "source": [
        "## Libraries"
      ],
      "metadata": {
        "id": "WlasWOra6RHk"
      }
    },
    {
      "cell_type": "code",
      "source": [
        "# Load libraries\n",
        "import os\n",
        "import numpy as np\n",
        "import tensorflow as tf\n",
        "import matplotlib.pyplot as plt\n",
        "from tensorflow.keras.preprocessing.image import ImageDataGenerator\n",
        "from tensorflow.keras.models import Sequential\n",
        "from tensorflow.keras.layers import Conv2D, MaxPooling2D, Flatten, Dense, Dropout\n",
        "from zipfile import ZipFile"
      ],
      "metadata": {
        "id": "NreYWubOWQzl"
      },
      "execution_count": 1,
      "outputs": []
    },
    {
      "cell_type": "markdown",
      "source": [
        "## Extraction of data"
      ],
      "metadata": {
        "id": "2OSRW4lw6wKN"
      }
    },
    {
      "cell_type": "code",
      "source": [
        "# Define the dataset path (update with your dataset path from Kaggle)\n",
        "dataset_path = \"/pia/archive.zip\"  # Path\n",
        "\n",
        "# Verify that the file exists\n",
        "if not os.path.exists(dataset_path):\n",
        "    raise FileNotFoundError(f\"The file {dataset_path} does not exist. Please verify the path.\")\n",
        "\n",
        "# Extract the dataset\n",
        "extracted_path = \"/content/dataset\"  # Path where the dataset will be extracted\n",
        "if not os.path.exists(extracted_path):\n",
        "    os.makedirs(extracted_path)\n",
        "\n",
        "with ZipFile(dataset_path, 'r') as zip_ref:\n",
        "    zip_ref.extractall(extracted_path)\n",
        "\n",
        "# Define directories for training and testing\n",
        "base_dir = os.path.join(extracted_path, \"Data\")  # Adjusts according to the structure of the dataset\n",
        "if not os.path.exists(base_dir):\n",
        "    raise FileNotFoundError(f\"The directory {base_dir} does not exist. Verify the extracted dataset structure.\")"
      ],
      "metadata": {
        "id": "xwXL2qQEXux3"
      },
      "execution_count": 3,
      "outputs": []
    },
    {
      "cell_type": "markdown",
      "source": [
        "## Preprocessing"
      ],
      "metadata": {
        "id": "4ckaVFuT7dhM"
      }
    },
    {
      "cell_type": "code",
      "source": [
        "# Preprocessing: Load and prepare images\n",
        "datagen = ImageDataGenerator(rescale=1.0 / 255.0, validation_split=0.2)  # Normalize images\n",
        "\n",
        "# Training data generator\n",
        "train_generator = datagen.flow_from_directory(\n",
        "    base_dir,\n",
        "    target_size=(128, 128),  # Resize images to 128x128\n",
        "    batch_size=32,\n",
        "    class_mode='binary',\n",
        "    subset='training'\n",
        ")\n",
        "\n",
        "# Validation data generator\n",
        "validation_generator = datagen.flow_from_directory(\n",
        "    base_dir,\n",
        "    target_size=(128, 128),\n",
        "    batch_size=32,\n",
        "    class_mode='binary',\n",
        "    subset='validation'\n",
        ")"
      ],
      "metadata": {
        "colab": {
          "base_uri": "https://localhost:8080/"
        },
        "id": "HSaL8ual7hEP",
        "outputId": "4d51b850-d1dd-41c5-e9f6-157567190583"
      },
      "execution_count": 4,
      "outputs": [
        {
          "output_type": "stream",
          "name": "stdout",
          "text": [
            "Found 801 images belonging to 3 classes.\n",
            "Found 199 images belonging to 3 classes.\n"
          ]
        }
      ]
    },
    {
      "cell_type": "markdown",
      "source": [
        "## Structure and training of Convolutional Artificial Neural Network (CNN)"
      ],
      "metadata": {
        "id": "vjHSJoYU7qkj"
      }
    },
    {
      "cell_type": "code",
      "source": [
        "# CNN model definition\n",
        "model = Sequential([\n",
        "    Conv2D(32, kernel_size=(3, 3), activation='relu', input_shape=(128, 128, 3)),\n",
        "    MaxPooling2D(pool_size=(2, 2)),\n",
        "    Dropout(0.25),\n",
        "    Conv2D(64, kernel_size=(3, 3), activation='relu'),\n",
        "    MaxPooling2D(pool_size=(2, 2)),\n",
        "    Dropout(0.25),\n",
        "    Conv2D(128, kernel_size=(3, 3), activation='relu'),\n",
        "    MaxPooling2D(pool_size=(2, 2)),\n",
        "    Flatten(),\n",
        "    Dense(128, activation='relu'),\n",
        "    Dropout(0.5),\n",
        "    Dense(1, activation='sigmoid')  # Binary classification\n",
        "])\n",
        "\n",
        "# Compile the model\n",
        "model.compile(optimizer='adam',\n",
        "              loss='binary_crossentropy',\n",
        "              metrics=['accuracy'])\n",
        "\n",
        "# Train the model\n",
        "history = model.fit(\n",
        "    train_generator,\n",
        "    epochs=10,\n",
        "    validation_data=validation_generator,\n",
        "    verbose=1\n",
        ")"
      ],
      "metadata": {
        "colab": {
          "base_uri": "https://localhost:8080/"
        },
        "id": "CiC1vpR-76xz",
        "outputId": "b5f8be1d-9dc4-45b8-89f8-233ec03356bd"
      },
      "execution_count": 5,
      "outputs": [
        {
          "output_type": "stream",
          "name": "stderr",
          "text": [
            "/usr/local/lib/python3.10/dist-packages/keras/src/layers/convolutional/base_conv.py:107: UserWarning: Do not pass an `input_shape`/`input_dim` argument to a layer. When using Sequential models, prefer using an `Input(shape)` object as the first layer in the model instead.\n",
            "  super().__init__(activity_regularizer=activity_regularizer, **kwargs)\n"
          ]
        },
        {
          "output_type": "stream",
          "name": "stdout",
          "text": [
            "Epoch 1/10\n"
          ]
        },
        {
          "output_type": "stream",
          "name": "stderr",
          "text": [
            "/usr/local/lib/python3.10/dist-packages/keras/src/trainers/data_adapters/py_dataset_adapter.py:122: UserWarning: Your `PyDataset` class should call `super().__init__(**kwargs)` in its constructor. `**kwargs` can include `workers`, `use_multiprocessing`, `max_queue_size`. Do not pass these arguments to `fit()`, as they will be ignored.\n",
            "  self._warn_if_super_not_called()\n"
          ]
        },
        {
          "output_type": "stream",
          "name": "stdout",
          "text": [
            "\u001b[1m26/26\u001b[0m \u001b[32m━━━━━━━━━━━━━━━━━━━━\u001b[0m\u001b[37m\u001b[0m \u001b[1m36s\u001b[0m 1s/step - accuracy: 0.6547 - loss: 0.6578 - val_accuracy: 0.9196 - val_loss: 0.3367\n",
            "Epoch 2/10\n",
            "\u001b[1m26/26\u001b[0m \u001b[32m━━━━━━━━━━━━━━━━━━━━\u001b[0m\u001b[37m\u001b[0m \u001b[1m39s\u001b[0m 1s/step - accuracy: 0.8163 - loss: 0.2433 - val_accuracy: 0.9246 - val_loss: -0.1770\n",
            "Epoch 3/10\n",
            "\u001b[1m26/26\u001b[0m \u001b[32m━━━━━━━━━━━━━━━━━━━━\u001b[0m\u001b[37m\u001b[0m \u001b[1m38s\u001b[0m 1s/step - accuracy: 0.8427 - loss: 0.1245 - val_accuracy: 0.9246 - val_loss: -0.9362\n",
            "Epoch 4/10\n",
            "\u001b[1m26/26\u001b[0m \u001b[32m━━━━━━━━━━━━━━━━━━━━\u001b[0m\u001b[37m\u001b[0m \u001b[1m36s\u001b[0m 1s/step - accuracy: 0.8369 - loss: -0.7026 - val_accuracy: 0.9196 - val_loss: -2.4440\n",
            "Epoch 5/10\n",
            "\u001b[1m26/26\u001b[0m \u001b[32m━━━━━━━━━━━━━━━━━━━━\u001b[0m\u001b[37m\u001b[0m \u001b[1m35s\u001b[0m 1s/step - accuracy: 0.8388 - loss: -1.3506 - val_accuracy: 0.9196 - val_loss: -12.2634\n",
            "Epoch 6/10\n",
            "\u001b[1m26/26\u001b[0m \u001b[32m━━━━━━━━━━━━━━━━━━━━\u001b[0m\u001b[37m\u001b[0m \u001b[1m34s\u001b[0m 1s/step - accuracy: 0.8301 - loss: -15.4355 - val_accuracy: 0.9196 - val_loss: -65.4618\n",
            "Epoch 7/10\n",
            "\u001b[1m26/26\u001b[0m \u001b[32m━━━━━━━━━━━━━━━━━━━━\u001b[0m\u001b[37m\u001b[0m \u001b[1m35s\u001b[0m 1s/step - accuracy: 0.8127 - loss: -41.0166 - val_accuracy: 0.9246 - val_loss: -261.8892\n",
            "Epoch 8/10\n",
            "\u001b[1m26/26\u001b[0m \u001b[32m━━━━━━━━━━━━━━━━━━━━\u001b[0m\u001b[37m\u001b[0m \u001b[1m42s\u001b[0m 1s/step - accuracy: 0.8197 - loss: -203.9682 - val_accuracy: 0.9196 - val_loss: -666.4838\n",
            "Epoch 9/10\n",
            "\u001b[1m26/26\u001b[0m \u001b[32m━━━━━━━━━━━━━━━━━━━━\u001b[0m\u001b[37m\u001b[0m \u001b[1m36s\u001b[0m 1s/step - accuracy: 0.8385 - loss: -427.8735 - val_accuracy: 0.8995 - val_loss: -1666.6389\n",
            "Epoch 10/10\n",
            "\u001b[1m26/26\u001b[0m \u001b[32m━━━━━━━━━━━━━━━━━━━━\u001b[0m\u001b[37m\u001b[0m \u001b[1m36s\u001b[0m 1s/step - accuracy: 0.7923 - loss: -1310.2360 - val_accuracy: 0.9196 - val_loss: -3094.9692\n"
          ]
        }
      ]
    },
    {
      "cell_type": "markdown",
      "source": [
        "## CNN Accuracy Results"
      ],
      "metadata": {
        "id": "-EvirJY28G5T"
      }
    },
    {
      "cell_type": "code",
      "source": [
        "# Plot training accuracy vs validation accuracy\n",
        "plt.plot(history.history['accuracy'], label='Training Accuracy')\n",
        "plt.plot(history.history['val_accuracy'], label='Validation Accuracy')\n",
        "plt.xlabel('Epochs')\n",
        "plt.ylabel('Accuracy')\n",
        "plt.legend()\n",
        "plt.title('Training vs Validation Accuracy')\n",
        "plt.show()"
      ],
      "metadata": {
        "colab": {
          "base_uri": "https://localhost:8080/",
          "height": 472
        },
        "id": "9qUfrZa28Mno",
        "outputId": "a8728086-0ba3-4263-efe5-7b98d9110da0"
      },
      "execution_count": 6,
      "outputs": [
        {
          "output_type": "display_data",
          "data": {
            "text/plain": [
              "<Figure size 640x480 with 1 Axes>"
            ],
            "image/png": "[encoded data removed]"
          },
          "metadata": {}
        }
      ]
    },
    {
      "cell_type": "markdown",
      "source": [
        "## Predictions with the trained CNN"
      ],
      "metadata": {
        "id": "CKTOHIe_8br8"
      }
    },
    {
      "cell_type": "code",
      "source": [
        "# Generate 10 predictions\n",
        "test_generator = datagen.flow_from_directory(\n",
        "    base_dir,\n",
        "    target_size=(128, 128),\n",
        "    batch_size=1,\n",
        "    class_mode='binary',\n",
        "    shuffle=False  # Ensure consistency for predictions\n",
        ")\n",
        "\n",
        "predictions = model.predict(test_generator)\n",
        "for i in range(10):\n",
        "    predicted_label = 'Infected' if predictions[i] > 0.5 else 'Normal'\n",
        "    actual_label = 'Infected' if test_generator.classes[i] == 1 else 'Normal'\n",
        "    print(f\"Prediction: {predicted_label}, Actual: {actual_label}\")"
      ],
      "metadata": {
        "colab": {
          "base_uri": "https://localhost:8080/"
        },
        "id": "ZZh2Nlt68neX",
        "outputId": "4081c564-c2ac-4739-8394-1d221d0ffe3b"
      },
      "execution_count": 7,
      "outputs": [
        {
          "output_type": "stream",
          "name": "stdout",
          "text": [
            "Found 1000 images belonging to 3 classes.\n",
            "\u001b[1m1000/1000\u001b[0m \u001b[32m━━━━━━━━━━━━━━━━━━━━\u001b[0m\u001b[37m\u001b[0m \u001b[1m18s\u001b[0m 18ms/step\n",
            "Prediction: Infected, Actual: Normal\n",
            "Prediction: Normal, Actual: Normal\n",
            "Prediction: Normal, Actual: Normal\n",
            "Prediction: Normal, Actual: Normal\n",
            "Prediction: Normal, Actual: Normal\n",
            "Prediction: Normal, Actual: Normal\n",
            "Prediction: Normal, Actual: Normal\n",
            "Prediction: Normal, Actual: Normal\n",
            "Prediction: Normal, Actual: Normal\n",
            "Prediction: Normal, Actual: Normal\n"
          ]
        }
      ]
    },
    {
      "cell_type": "markdown",
      "source": [
        "## References"
      ],
      "metadata": {
        "id": "lS0nKufE8tGO"
      }
    },
    {
      "cell_type": "markdown",
      "source": [
        "1. https://www.kaggle.com/datasets/mohamedhanyyy/chest-ctscan-images"
      ],
      "metadata": {
        "id": "iLRMBzfn8477"
      }
    }
  ]
}