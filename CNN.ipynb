{
  "nbformat": 4,
  "nbformat_minor": 0,
  "metadata": {
    "colab": {
      "provenance": [],
      "authorship_tag": "ABX9TyOTV5E4cwTX/U4dZlFx/Kho",
      "include_colab_link": true
    },
    "kernelspec": {
      "name": "python3",
      "display_name": "Python 3"
    },
    "language_info": {
      "name": "python"
    }
  },
  "cells": [
    {
      "cell_type": "markdown",
      "metadata": {
        "id": "view-in-github",
        "colab_type": "text"
      },
      "source": [
        "<a href=\"https://colab.research.google.com/github/AdrianOlazaran/IA_IB_AgoDec2024/blob/main/CNN.ipynb\" target=\"_parent\"><img src=\"https://colab.research.google.com/assets/colab-badge.svg\" alt=\"Open In Colab\"/></a>"
      ]
    },
    {
      "cell_type": "code",
      "execution_count": 2,
      "metadata": {
        "colab": {
          "base_uri": "https://localhost:8080/"
        },
        "id": "kZ30dPfnHrKt",
        "outputId": "920cd8bd-8be2-4481-a751-6c8f79368cf8"
      },
      "outputs": [
        {
          "output_type": "stream",
          "name": "stdout",
          "text": [
            "Epoch 1/10\n",
            "469/469 - 41s - 88ms/step - accuracy: 0.9425 - loss: 0.2025\n",
            "Epoch 2/10\n",
            "469/469 - 41s - 87ms/step - accuracy: 0.9815 - loss: 0.0594\n",
            "Epoch 3/10\n",
            "469/469 - 41s - 88ms/step - accuracy: 0.9877 - loss: 0.0410\n",
            "Epoch 4/10\n",
            "469/469 - 42s - 90ms/step - accuracy: 0.9902 - loss: 0.0322\n",
            "Epoch 5/10\n",
            "469/469 - 84s - 179ms/step - accuracy: 0.9925 - loss: 0.0242\n",
            "Epoch 6/10\n",
            "469/469 - 78s - 166ms/step - accuracy: 0.9938 - loss: 0.0198\n",
            "Epoch 7/10\n",
            "469/469 - 41s - 88ms/step - accuracy: 0.9949 - loss: 0.0162\n",
            "Epoch 8/10\n",
            "469/469 - 40s - 85ms/step - accuracy: 0.9958 - loss: 0.0133\n",
            "Epoch 9/10\n",
            "469/469 - 41s - 88ms/step - accuracy: 0.9964 - loss: 0.0105\n",
            "Epoch 10/10\n",
            "469/469 - 80s - 172ms/step - accuracy: 0.9967 - loss: 0.0102\n",
            "Test Accuracy: 0.9930\n",
            "\u001b[1m1/1\u001b[0m \u001b[32m━━━━━━━━━━━━━━━━━━━━\u001b[0m\u001b[37m\u001b[0m \u001b[1m0s\u001b[0m 72ms/step\n",
            "Prediction: 7, Actual: 7\n",
            "Prediction: 2, Actual: 2\n",
            "Prediction: 1, Actual: 1\n",
            "Prediction: 0, Actual: 0\n",
            "Prediction: 4, Actual: 4\n"
          ]
        }
      ],
      "source": [
        "#Assignment 7.- Convolutional Neural Network.\n",
        "#By: Adrián Emiliano Olazarán Guzmán - 1901957 - Class time: n4-n6\n",
        "# Load libraries\n",
        "import numpy as np\n",
        "import tensorflow as tf\n",
        "from tensorflow.keras.datasets import mnist\n",
        "from tensorflow.keras.models import Sequential\n",
        "from tensorflow.keras.layers import Conv2D, MaxPooling2D, Flatten, Dense\n",
        "from tensorflow.keras.utils import to_categorical\n",
        "\n",
        "# Load data\n",
        "(train_data, train_labels), (test_data, test_labels) = mnist.load_data()\n",
        "\n",
        "# Data preprocessing\n",
        "# Normalize the data\n",
        "train_data = train_data.astype(\"float32\") / 255.0\n",
        "test_data = test_data.astype(\"float32\") / 255.0\n",
        "\n",
        "# Add an additional dimension so the data has shape (n, 28, 28, 1)\n",
        "train_data = np.expand_dims(train_data, -1)\n",
        "test_data = np.expand_dims(test_data, -1)\n",
        "\n",
        "# One-hot encoding for the labels\n",
        "train_labels = to_categorical(train_labels, 10)\n",
        "test_labels = to_categorical(test_labels, 10)\n",
        "\n",
        "# Model selection\n",
        "model = Sequential([\n",
        "    Conv2D(32, kernel_size=(3, 3), activation='relu', input_shape=(28, 28, 1)),\n",
        "    MaxPooling2D(pool_size=(2, 2)),\n",
        "    Conv2D(64, kernel_size=(3, 3), activation='relu'),\n",
        "    MaxPooling2D(pool_size=(2, 2)),\n",
        "    Flatten(),\n",
        "    Dense(128, activation='relu'),\n",
        "    Dense(10, activation='softmax')\n",
        "])\n",
        "\n",
        "# Model compilation\n",
        "model.compile(optimizer='adam',\n",
        "              loss='categorical_crossentropy',\n",
        "              metrics=['accuracy'])\n",
        "\n",
        "# Model training\n",
        "epochs = 10\n",
        "batch_size = 128\n",
        "model.fit(train_data, train_labels, batch_size=batch_size, epochs=epochs, verbose=2)\n",
        "\n",
        "# Model evaluation\n",
        "loss, accuracy = model.evaluate(test_data, test_labels, verbose=0)\n",
        "print(f\"Test Accuracy: {accuracy:.4f}\")\n",
        "\n",
        "# Make 5 predictions\n",
        "predictions = model.predict(test_data[:5])\n",
        "for i, pred in enumerate(predictions):\n",
        "    predicted_label = np.argmax(pred)\n",
        "    actual_label = np.argmax(test_labels[i])\n",
        "    print(f\"Prediction: {predicted_label}, Actual: {actual_label}\")\n"
      ]
    }
  ]
}